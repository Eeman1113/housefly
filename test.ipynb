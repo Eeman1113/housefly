{
 "cells": [
  {
   "cell_type": "code",
   "execution_count": 2,
   "metadata": {},
   "outputs": [],
   "source": [
    "import numpy as np\n",
    "import random"
   ]
  },
  {
   "cell_type": "code",
   "execution_count": 3,
   "metadata": {},
   "outputs": [],
   "source": [
    "n =  input('Number Of Rooms: ')\n",
    "l = input('Length Of House: ')\n",
    "w = input('Width Of House: ')\n",
    "p = input('People In The House: ')"
   ]
  },
  {
   "cell_type": "code",
   "execution_count": 4,
   "metadata": {},
   "outputs": [
    {
     "name": "stdout",
     "output_type": "stream",
     "text": [
      "-1\n",
      "[['-' '-' '-' '<' '-' '-' '-' '-' '-' '-' '-']\n",
      " ['|' ' ' ' ' ' ' ' ' ' ' ' ' ' ' ' ' ' ' '|']\n",
      " ['|' ' ' ' ' ' ' ' ' ' ' ' ' ' ' ' ' ' ' '|']\n",
      " ['|' ' ' ' ' ' ' ' ' ' ' ' ' ' ' ' ' ' ' '|']\n",
      " ['|' ' ' ' ' ' ' ' ' ' ' ' ' ' ' ' ' ' ' '|']\n",
      " ['|' ' ' ' ' ' ' ' ' ' ' ' ' ' ' ' ' ' ' '|']\n",
      " ['|' ' ' ' ' ' ' ' ' ' ' ' ' ' ' ' ' ' ' '|']\n",
      " ['|' ' ' ' ' ' ' ' ' ' ' ' ' ' ' ' ' ' ' '|']\n",
      " ['|' ' ' ' ' ' ' ' ' ' ' ' ' ' ' ' ' ' ' '|']\n",
      " ['|' ' ' ' ' ' ' ' ' ' ' ' ' ' ' ' ' ' ' '|']\n",
      " ['|' ' ' ' ' ' ' ' ' ' ' ' ' ' ' ' ' ' ' '=']\n",
      " ['|' ' ' ' ' ' ' ' ' ' ' ' ' ' ' ' ' ' ' '|']\n",
      " ['-' '-' '-' '-' '-' '-' '-' '-' '-' '-' '-']]\n"
     ]
    }
   ],
   "source": [
    "def basic_room(l,w):\n",
    "\n",
    "    #variables (oof this is gonna be a pain)\n",
    "    v_window = '='\n",
    "    v_brick = '|'\n",
    "    h_brick = '-'\n",
    "    h_window = '<>'\n",
    "    v_door = '^'\n",
    "    h_door = '<'\n",
    "    door_position = random.randrange(1, l-1)\n",
    "    h_window_position = random.randint(0, l-1)\n",
    "    v_window_position = random.randrange(1, w-1)\n",
    "    room=[]\n",
    "    h_wall = [h_brick] * l\n",
    "    h_final_wall = [h_brick] * l\n",
    "    onwmiusone = random.choice([0,-1])\n",
    "\n",
    "    #door generation\n",
    "    h_wall[door_position] = h_door\n",
    "\n",
    "    #room generation\n",
    "    room.append(h_wall)\n",
    "    for i in range(w-2):\n",
    "        room.append([v_brick] + [' '] * (l-2) + [v_brick])\n",
    "    room.append(h_final_wall)\n",
    "\n",
    "\n",
    "    #window generation \n",
    "    # print(room)\n",
    "    print(onwmiusone)\n",
    "    room[v_window_position][onwmiusone]=v_window\n",
    "    \n",
    "    #final wall generation\n",
    "    v_wall = [v_brick, ' ' * (len(h_wall)-2), v_brick]\n",
    "\n",
    "    print(np.array(room))\n",
    "\n",
    "basic_room(11,13)"
   ]
  },
  {
   "cell_type": "code",
   "execution_count": 5,
   "metadata": {},
   "outputs": [],
   "source": [
    "def divide_rooms(n):\n",
    "    #takes n and devides it into a list of numbers that add up to n\n",
    "    # Create an array to store the random numbers.\n",
    "    k = []\n",
    "    # While the sum of the random numbers is less than n, add a random number to the array.\n",
    "    while sum(k) < n:\n",
    "        k.append(random.randint(1, n - sum(k)))\n",
    "    # Return the array of random numbers.\n",
    "    return k"
   ]
  },
  {
   "cell_type": "code",
   "execution_count": 6,
   "metadata": {},
   "outputs": [
    {
     "data": {
      "text/plain": [
       "[5]"
      ]
     },
     "execution_count": 6,
     "metadata": {},
     "output_type": "execute_result"
    }
   ],
   "source": [
    "divide_rooms(5)"
   ]
  },
  {
   "cell_type": "code",
   "execution_count": 7,
   "metadata": {},
   "outputs": [],
   "source": [
    "def make_rooms(n,l,b):\n",
    "    #make a single wall \n",
    "    wall = ['-'*l]\n",
    "    for i in n:\n",
    "        wall[random.randint(0,b-1)] = '|'\n",
    "    room = []\n",
    "    room.append(wall*b)\n",
    "    return room\n",
    "\n",
    "def devide_length_breath(l,b,n):\n",
    "    k=len(n)\n",
    "    #devide the length and breath into a list of k numbers that sum up to l and b\n",
    "    length_division = divide_rooms(l)\n",
    "    breadth_division = divide_rooms(b)\n",
    "    \n",
    "    # Ensure that the sum of the divisions is equal to l and b respectively\n",
    "    while len(length_division) != k:\n",
    "        length_division = divide_rooms(l)\n",
    "    while len(breadth_division) != k:\n",
    "        breadth_division = divide_rooms(b)\n",
    "    \n",
    "    return length_division, breadth_division\n",
    "\n",
    "def mk_house(n,l,b):\n",
    "    v_window = '='\n",
    "    v_brick = '|'\n",
    "    h_brick = '-'\n",
    "    h_window = '<>'\n",
    "    v_door = '^'\n",
    "    h_door = '<'\n",
    "\n",
    "    length_division, breadth_division = devide_length_breath(l,b,n)\n",
    "\n",
    "    #make the outer wall \n",
    "    house = []\n",
    "    house.append([['-']*l])\n",
    "    print(house)\n",
    "    door_position = random.randrange(1, l-1)\n",
    "    house[0][0][door_position] = '<'\n",
    "    for i in range(0,len(n)):\n",
    "        house.append(make_rooms(n[i],length_division[i],breadth_division[i]))\n",
    "    house.append([['-'] * l])\n"
   ]
  },
  {
   "cell_type": "code",
   "execution_count": 8,
   "metadata": {},
   "outputs": [
    {
     "name": "stdout",
     "output_type": "stream",
     "text": [
      "[[['-', '-', '-', '-', '-', '-', '-', '-', '-', '-']]]\n"
     ]
    },
    {
     "ename": "TypeError",
     "evalue": "'int' object is not iterable",
     "output_type": "error",
     "traceback": [
      "\u001b[0;31m---------------------------------------------------------------------------\u001b[0m",
      "\u001b[0;31mTypeError\u001b[0m                                 Traceback (most recent call last)",
      "\u001b[1;32m/Users/eemanmajumder/code_shit/housefly/test.ipynb Cell 7\u001b[0m in \u001b[0;36m<cell line: 1>\u001b[0;34m()\u001b[0m\n\u001b[0;32m----> <a href='vscode-notebook-cell:/Users/eemanmajumder/code_shit/housefly/test.ipynb#W6sZmlsZQ%3D%3D?line=0'>1</a>\u001b[0m mk_house(divide_rooms(\u001b[39m5\u001b[39;49m),\u001b[39m10\u001b[39;49m,\u001b[39m20\u001b[39;49m)\n",
      "\u001b[1;32m/Users/eemanmajumder/code_shit/housefly/test.ipynb Cell 7\u001b[0m in \u001b[0;36mmk_house\u001b[0;34m(n, l, b)\u001b[0m\n\u001b[1;32m     <a href='vscode-notebook-cell:/Users/eemanmajumder/code_shit/housefly/test.ipynb#W6sZmlsZQ%3D%3D?line=38'>39</a>\u001b[0m house[\u001b[39m0\u001b[39m][\u001b[39m0\u001b[39m][door_position] \u001b[39m=\u001b[39m \u001b[39m'\u001b[39m\u001b[39m<\u001b[39m\u001b[39m'\u001b[39m\n\u001b[1;32m     <a href='vscode-notebook-cell:/Users/eemanmajumder/code_shit/housefly/test.ipynb#W6sZmlsZQ%3D%3D?line=39'>40</a>\u001b[0m \u001b[39mfor\u001b[39;00m i \u001b[39min\u001b[39;00m \u001b[39mrange\u001b[39m(\u001b[39m0\u001b[39m,\u001b[39mlen\u001b[39m(n)):\n\u001b[0;32m---> <a href='vscode-notebook-cell:/Users/eemanmajumder/code_shit/housefly/test.ipynb#W6sZmlsZQ%3D%3D?line=40'>41</a>\u001b[0m     house\u001b[39m.\u001b[39mappend(make_rooms(n[i],length_division[i],breadth_division[i]))\n\u001b[1;32m     <a href='vscode-notebook-cell:/Users/eemanmajumder/code_shit/housefly/test.ipynb#W6sZmlsZQ%3D%3D?line=41'>42</a>\u001b[0m house\u001b[39m.\u001b[39mappend([[\u001b[39m'\u001b[39m\u001b[39m-\u001b[39m\u001b[39m'\u001b[39m] \u001b[39m*\u001b[39m l])\n",
      "\u001b[1;32m/Users/eemanmajumder/code_shit/housefly/test.ipynb Cell 7\u001b[0m in \u001b[0;36mmake_rooms\u001b[0;34m(n, l, b)\u001b[0m\n\u001b[1;32m      <a href='vscode-notebook-cell:/Users/eemanmajumder/code_shit/housefly/test.ipynb#W6sZmlsZQ%3D%3D?line=0'>1</a>\u001b[0m \u001b[39mdef\u001b[39;00m \u001b[39mmake_rooms\u001b[39m(n,l,b):\n\u001b[1;32m      <a href='vscode-notebook-cell:/Users/eemanmajumder/code_shit/housefly/test.ipynb#W6sZmlsZQ%3D%3D?line=1'>2</a>\u001b[0m     \u001b[39m#make a single wall \u001b[39;00m\n\u001b[1;32m      <a href='vscode-notebook-cell:/Users/eemanmajumder/code_shit/housefly/test.ipynb#W6sZmlsZQ%3D%3D?line=2'>3</a>\u001b[0m     wall \u001b[39m=\u001b[39m [\u001b[39m'\u001b[39m\u001b[39m-\u001b[39m\u001b[39m'\u001b[39m\u001b[39m*\u001b[39ml]\n\u001b[0;32m----> <a href='vscode-notebook-cell:/Users/eemanmajumder/code_shit/housefly/test.ipynb#W6sZmlsZQ%3D%3D?line=3'>4</a>\u001b[0m     \u001b[39mfor\u001b[39;00m i \u001b[39min\u001b[39;00m n:\n\u001b[1;32m      <a href='vscode-notebook-cell:/Users/eemanmajumder/code_shit/housefly/test.ipynb#W6sZmlsZQ%3D%3D?line=4'>5</a>\u001b[0m         wall[random\u001b[39m.\u001b[39mrandint(\u001b[39m0\u001b[39m,b\u001b[39m-\u001b[39m\u001b[39m1\u001b[39m)] \u001b[39m=\u001b[39m \u001b[39m'\u001b[39m\u001b[39m|\u001b[39m\u001b[39m'\u001b[39m\n\u001b[1;32m      <a href='vscode-notebook-cell:/Users/eemanmajumder/code_shit/housefly/test.ipynb#W6sZmlsZQ%3D%3D?line=5'>6</a>\u001b[0m     room \u001b[39m=\u001b[39m []\n",
      "\u001b[0;31mTypeError\u001b[0m: 'int' object is not iterable"
     ]
    }
   ],
   "source": [
    "mk_house(divide_rooms(5),10,20)"
   ]
  },
  {
   "cell_type": "code",
   "execution_count": null,
   "metadata": {},
   "outputs": [
    {
     "ename": "NameError",
     "evalue": "name 'devide_length_breath' is not defined",
     "output_type": "error",
     "traceback": [
      "\u001b[0;31m---------------------------------------------------------------------------\u001b[0m",
      "\u001b[0;31mNameError\u001b[0m                                 Traceback (most recent call last)",
      "\u001b[1;32m/Users/eemanmajumder/code_shit/housefly/test.ipynb Cell 8\u001b[0m in \u001b[0;36m<cell line: 1>\u001b[0;34m()\u001b[0m\n\u001b[0;32m----> <a href='vscode-notebook-cell:/Users/eemanmajumder/code_shit/housefly/test.ipynb#X10sZmlsZQ%3D%3D?line=0'>1</a>\u001b[0m devide_length_breath(\u001b[39m10\u001b[39m,\u001b[39m20\u001b[39m,divide_rooms(\u001b[39m5\u001b[39m))\n",
      "\u001b[0;31mNameError\u001b[0m: name 'devide_length_breath' is not defined"
     ]
    }
   ],
   "source": [
    "devide_length_breath(10,20,divide_rooms(5))"
   ]
  },
  {
   "cell_type": "code",
   "execution_count": null,
   "metadata": {},
   "outputs": [
    {
     "name": "stdout",
     "output_type": "stream",
     "text": [
      "-\n"
     ]
    }
   ],
   "source": [
    "l=[['----------']]\n",
    "print(l[0][0][0])"
   ]
  }
 ],
 "metadata": {
  "kernelspec": {
   "display_name": "Python 3",
   "language": "python",
   "name": "python3"
  },
  "language_info": {
   "codemirror_mode": {
    "name": "ipython",
    "version": 3
   },
   "file_extension": ".py",
   "mimetype": "text/x-python",
   "name": "python",
   "nbconvert_exporter": "python",
   "pygments_lexer": "ipython3",
   "version": "3.9.16"
  },
  "orig_nbformat": 4
 },
 "nbformat": 4,
 "nbformat_minor": 2
}
